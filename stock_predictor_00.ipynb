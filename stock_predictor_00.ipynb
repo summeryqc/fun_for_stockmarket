{
  "nbformat": 4,
  "nbformat_minor": 0,
  "metadata": {
    "colab": {
      "name": "stock_predictor_00.ipynb",
      "provenance": [],
      "private_outputs": true,
      "collapsed_sections": [],
      "include_colab_link": true
    },
    "kernelspec": {
      "name": "python3",
      "display_name": "Python 3"
    }
  },
  "cells": [
    {
      "cell_type": "markdown",
      "metadata": {
        "id": "view-in-github",
        "colab_type": "text"
      },
      "source": [
        "<a href=\"https://colab.research.google.com/github/summeryqc/fun_for_stockmarket/blob/master/stock_predictor_00.ipynb\" target=\"_parent\"><img src=\"https://colab.research.google.com/assets/colab-badge.svg\" alt=\"Open In Colab\"/></a>"
      ]
    },
    {
      "cell_type": "markdown",
      "metadata": {
        "id": "vtmcBDzp7LZW",
        "colab_type": "text"
      },
      "source": [
        "# Test 1: Using Fbprophet Module to predict stock market\n",
        "## 1. Database of historical stock prices\n",
        "## 2. Fbprophet Module for stock predicting\n",
        "## 3. Technical analysis\n",
        "\n",
        "\n",
        "\n",
        "\n",
        "\n"
      ]
    },
    {
      "cell_type": "code",
      "metadata": {
        "id": "AGSKTvAzez6T",
        "colab_type": "code",
        "colab": {}
      },
      "source": [
        "import pandas_datareader.data as web\n",
        "import os\n",
        "from datetime import datetime\n",
        "import numpy as np\n",
        "import matplotlib.pyplot as plt\n",
        "\n",
        "# Setup the period of data we want to fetch\n",
        "start = datetime(2017, 7, 20)\n",
        "end = datetime(2020, 7, 20)\n",
        "stock_name = \"AAPL\"\n",
        "#start = '2017-07-20'\n",
        "#end = '2020-07-20'\n",
        "# Add API key for accessing Alpha Vantage database\n",
        "os.environ[\"ALPHAVANTAGE_API_KEY\"] = \"TYPE YOUR OWN KEY\"\n",
        "stock_data = web.DataReader(stock_name, \"av-daily\", start, end, api_key=os.getenv('ALPHAVANTAGE_API_KEY'))"
      ],
      "execution_count": null,
      "outputs": []
    },
    {
      "cell_type": "code",
      "metadata": {
        "id": "EwhSopz89rh7",
        "colab_type": "code",
        "colab": {}
      },
      "source": [
        "# For debugging\n",
        "type(stock_data.tail().index[0])\n",
        "dt_string = stock_data.index[0]\n",
        "dt_object2 = datetime.strptime(dt_string, \"%Y-%m-%d\")\n",
        "print(\"dt_object2 =\", dt_object2)\n",
        "print(\"test \",datetime(2017,7,20))\n",
        "type(dt_object2)"
      ],
      "execution_count": null,
      "outputs": []
    },
    {
      "cell_type": "code",
      "metadata": {
        "id": "PbrZqpgt8IQ0",
        "colab_type": "code",
        "colab": {}
      },
      "source": [
        "# Plot the stock price in defined period\n",
        "stock_data['close'].plot(figsize=(16,8),color='#002699',alpha=0.8)\n",
        "plt.xlabel(\"Date\",fontsize=12,fontweight='bold',color='gray')\n",
        "plt.ylabel('Price',fontsize=12,fontweight='bold',color='gray')\n",
        "plt.title(\"Stock price for Apple\",fontsize=18)\n",
        "plt.show()"
      ],
      "execution_count": null,
      "outputs": []
    },
    {
      "cell_type": "code",
      "metadata": {
        "id": "tBgkJTyFvhd0",
        "colab_type": "code",
        "colab": {}
      },
      "source": [
        "# Python, using Prophet forecast package to predict stock price\n",
        "import pandas as pd\n",
        "from fbprophet import Prophet\n",
        "from sklearn.metrics import mean_squared_error\n",
        "from matplotlib.animation import FuncAnimation"
      ],
      "execution_count": null,
      "outputs": []
    },
    {
      "cell_type": "code",
      "metadata": {
        "id": "6QwIRMSYWbl8",
        "colab_type": "code",
        "colab": {}
      },
      "source": [
        "### Defining a cycle analysis function to get return and mse ###\n",
        "\n",
        "# data: pandas dataset\n",
        "# split_date: \n",
        "# cycle:\n",
        "# mode:\n",
        "# forecast_plot:\n",
        "# print_ind:\n",
        "# stock_name:\n",
        "\n",
        "def cycle_analysis(data,split_date,cycle,stock_name,mode='additive',forecast_plot = False,print_ind=False):\n",
        "  # Split training and testing data\n",
        "  training = data[:split_date].iloc[:-1,]\n",
        "  testing = data[split_date:]\n",
        "  predict_period = len(pd.date_range(split_date,max(data.index)))\n",
        "  df = training.reset_index()\n",
        "  df.columns = ['ds','y']\n",
        "  # Using Prophet module with self defined cycle\n",
        "  m = Prophet(weekly_seasonality=False,yearly_seasonality=False,daily_seasonality=False)\n",
        "  m.add_seasonality('self_define_cycle',period=cycle,fourier_order=8,mode=mode)\n",
        "  # Make predictions\n",
        "  m.fit(df)\n",
        "  future = m.make_future_dataframe(periods=predict_period)\n",
        "  # The predict method will assign each row in future a predicted value which it names yhat\n",
        "  forecast = m.predict(future)\n",
        "  if forecast_plot:\n",
        "    m.plot(forecast)\n",
        "    testing_plot = testing.index.map(lambda x:datetime.strptime(x,\"%Y-%m-%d\"))\n",
        "    plt.plot(testing_plot,testing.values,'.',color='#ff3333',alpha=0.6)\n",
        "    plt.xlabel(stock_name + 'Date',fontsize=12,fontweight='bold',color='gray')\n",
        "    plt.ylabel('Price(USD)',fontsize=12,fontweight='bold',color='gray')\n",
        "    plt.legend(('training_predict', 'original', 'tesing_predict'))\n",
        "    plt.show()\n",
        "  # Calculate ideal maximun return (max-min)\n",
        "  ret = max(forecast.self_define_cycle)-min(forecast.self_define_cycle)\n",
        "  # Get the column of predict values\n",
        "  model_tb = forecast['yhat']\n",
        "  model_tb.index = forecast['ds'].map(lambda x:x.strftime(\"%Y-%m-%d\"))\n",
        "  # Combine DataFrame objects horizontally along the x axis by passing in axis=1\n",
        "  out_tb = pd.concat([testing,model_tb],axis=1)\n",
        "  out_tb = out_tb[~out_tb.iloc[:,0].isnull()]\n",
        "  out_tb = out_tb[~out_tb.iloc[:,1].isnull()]\n",
        "  # Mean square error\n",
        "  mse = mean_squared_error(out_tb.iloc[:,0],out_tb.iloc[:,1])\n",
        "  rep = [ret,mse]\n",
        "  if print_ind:\n",
        "    print('Projected return per cycle: {}'.format(round(rep[0],2)))\n",
        "    print(\"MSE: {}\".format(round(rep[1],4)))\n",
        "  return rep"
      ],
      "execution_count": null,
      "outputs": []
    },
    {
      "cell_type": "code",
      "metadata": {
        "id": "yBd9rh0Ak8IO",
        "colab_type": "code",
        "colab": {}
      },
      "source": [
        "# For debugging and testing\n",
        "cycle_analysis(stock_data['close'], '2020-01-20', 30, stock_name, forecast_plot=True, print_ind=True)"
      ],
      "execution_count": null,
      "outputs": []
    },
    {
      "cell_type": "code",
      "metadata": {
        "id": "tcDU3W0p4TWT",
        "colab_type": "code",
        "colab": {}
      },
      "source": [
        "# Using a loop to calcaulate return and mean square error for defferent cycle\n",
        "testing_box = range(10,301)\n",
        "return_box = []\n",
        "mse_box = []\n",
        "for c in testing_box:\n",
        "  f = cycle_analysis(stock_data['close'],'2020-01-20',c)\n",
        "  return_box.append(f[0])\n",
        "  mse_box.append(f[1])"
      ],
      "execution_count": null,
      "outputs": []
    },
    {
      "cell_type": "code",
      "metadata": {
        "id": "-abx9ME6dDtr",
        "colab_type": "code",
        "colab": {}
      },
      "source": [
        "report = pd.DataFrame({'cycle':testing_box,'return':return_box,'mse':mse_box})\n",
        "possible_choice = report[report['return'] >10]\n",
        "best_cycle = possible_choice[possible_choice['mse']==min(possible_choice['mse'])]"
      ],
      "execution_count": null,
      "outputs": []
    },
    {
      "cell_type": "code",
      "metadata": {
        "id": "SYSb8Bpikc7-",
        "colab_type": "code",
        "colab": {}
      },
      "source": [
        "print(best_cycle['cycle'])\n",
        "cycle_analysis(stock_data['close'], '2020-01-20', 225, stock_name, forecast_plot=True, print_ind=True)"
      ],
      "execution_count": null,
      "outputs": []
    },
    {
      "cell_type": "code",
      "metadata": {
        "id": "U3XzU77KmSj1",
        "colab_type": "code",
        "colab": {}
      },
      "source": [
        "### Defining a function to return best buy and sell date ###\n",
        "\n",
        "# forecast\n",
        "# stock_data: \n",
        "# cycle:\n",
        "# cycle_name:\n",
        "# time_name:\n",
        "\n",
        "def return_dates(forecast,stock_data,cycle,cycle_name = 'self_define_cycle',time_name = 'ds'):\n",
        "  # Find out the highest and lowest dates in the first cycle\n",
        "  high = forecast.iloc[:cycle,]\n",
        "  high = high[high[cycle_name]==max(high[cycle_name])][time_name]\n",
        "  high = datetime.strptime(str(high.values[0])[:10],\"%Y-%m-%d\")\n",
        "  low = forecast.iloc[:cycle,]\n",
        "  low = low[low[cycle_name]==min(low[cycle_name])][time_name]\n",
        "  low = datetime.strptime(str(low.values[0])[:10],\"%Y-%m-%d\")\n",
        "  end_dt = datetime.strptime(stock_data.index[-1],\"%Y-%m-%d\")\n",
        "  find_list = stock_data.index.map(lambda x:datetime.strptime(x,\"%Y-%m-%d\"))\n",
        "  # Finding selling and buying dates with loop\n",
        "  sell_dt = []\n",
        "  sell_dt.append(high)\n",
        "  # Looking for new cycle until it goes beyond the last date in stock_data\n",
        "  while high<end_dt:\n",
        "    high = high+timedelta(days=cycle)\n",
        "    dif = (find_list-high).days\n",
        "    high = find_list[abs(dif)==min(abs(dif))][0] # In order to avoid the non-trading dates\n",
        "    sell_dt.append(high)\n",
        "  buy_dt = []\n",
        "  buy_dt.append(low)\n",
        "  # Looking for new cycle until it goes beyond the last date in stock_data\n",
        "  while low<end_dt:\n",
        "    low = low+timedelta(days=cycle)\n",
        "    dif = (find_list-low).days\n",
        "    low = find_list[abs(dif)==min(abs(dif))][0] # In order to avoid the non-trading dates\n",
        "    buy_dt.append(low)\n",
        "  if buy_dt[0] > sell_dt[0]:\n",
        "    sell_dt = sell_dt[1:]\n",
        "  buy_dt = buy_dt[:-1]\n",
        "  sell_dt = sell_dt[:-1]\n",
        "  return [buy_dt,sell_dt]"
      ],
      "execution_count": null,
      "outputs": []
    }
  ]
}